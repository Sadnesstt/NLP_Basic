{
 "cells": [
  {
   "cell_type": "code",
   "execution_count": null,
   "id": "1fac0538",
   "metadata": {},
   "outputs": [],
   "source": [
    "from data_loader import DataLoader"
   ]
  },
  {
   "cell_type": "markdown",
   "id": "294bc494",
   "metadata": {},
   "source": [
    "# Load TSV data"
   ]
  },
  {
   "cell_type": "code",
   "execution_count": null,
   "id": "6781ac40",
   "metadata": {},
   "outputs": [],
   "source": [
    "loaders = DataLoader(\n",
    "    train_fn = './review.sorted.uniq.refined.tok.shuf.tsv',\n",
    "    batch_size = 256,\n",
    "    valid_ratio = .2,\n",
    "    device = -1,\n",
    "    max_vocab = 999999,\n",
    "    min_freq = 5,\n",
    ")"
   ]
  },
  {
   "cell_type": "markdown",
   "id": "61959afc",
   "metadata": {},
   "source": [
    "## Check loader"
   ]
  },
  {
   "cell_type": "code",
   "execution_count": null,
   "id": "6c69b057",
   "metadata": {},
   "outputs": [],
   "source": [
    "print(\"|train|=%d\" % len(loaders.train_loader.dataset))\n",
    "print(\"|valid|=%d\" % len(loaders.valid_loader.dataset))"
   ]
  },
  {
   "cell_type": "code",
   "execution_count": null,
   "id": "bf69d907",
   "metadata": {},
   "outputs": [],
   "source": [
    "print(\"|vocab|=%d\" % len(loaders.text.vocab))\n",
    "print(\"|label|=%d\" % len(loaders.label.vocab))"
   ]
  },
  {
   "cell_type": "markdown",
   "id": "2ea4db95",
   "metadata": {},
   "source": [
    "## Get mini-batch tensors"
   ]
  },
  {
   "cell_type": "code",
   "execution_count": null,
   "id": "273770b0",
   "metadata": {},
   "outputs": [],
   "source": [
    "data = next(iter(loaders.train_loader))\n",
    "\n",
    "print(data.text.shape)\n",
    "print(data.label.shape)"
   ]
  },
  {
   "cell_type": "markdown",
   "id": "34b99152",
   "metadata": {},
   "source": [
    "## Use vocab"
   ]
  },
  {
   "cell_type": "code",
   "execution_count": null,
   "id": "39c21b24",
   "metadata": {},
   "outputs": [],
   "source": [
    "dir(loaders.text.vocab)"
   ]
  },
  {
   "cell_type": "code",
   "execution_count": null,
   "id": "0b0899d2",
   "metadata": {},
   "outputs": [],
   "source": [
    "loaders.text.vocab.stoi['배송'] # 단어를 integer로 알려줌"
   ]
  },
  {
   "cell_type": "code",
   "execution_count": null,
   "id": "a4f982a7",
   "metadata": {},
   "outputs": [],
   "source": [
    "loaders.text.vocab.itos[16] # 배송이라는 단어를 얻을수있음."
   ]
  },
  {
   "cell_type": "markdown",
   "id": "f75f574a",
   "metadata": {},
   "source": [
    "### check most frequent words"
   ]
  },
  {
   "cell_type": "code",
   "execution_count": null,
   "id": "10ddfe5a",
   "metadata": {},
   "outputs": [],
   "source": [
    "for i in range(50):\n",
    "    word = loaders.text.vocab.itos[i]\n",
    "    print('%5d: %s\\t%d' % (i, word, loaders.text.vocab.freqs[word]))"
   ]
  },
  {
   "cell_type": "markdown",
   "id": "e040e0e9",
   "metadata": {},
   "source": [
    "## Restore text from tensor"
   ]
  },
  {
   "cell_type": "code",
   "execution_count": null,
   "id": "f437717c",
   "metadata": {},
   "outputs": [],
   "source": [
    "print(data.text[-1])"
   ]
  },
  {
   "cell_type": "code",
   "execution_count": null,
   "id": "59457584",
   "metadata": {},
   "outputs": [],
   "source": [
    "x = data.text[-1]\n",
    "line = []\n",
    "for x_i in x:\n",
    "    line += [loaders.text.vocab.itos[x_i]]\n",
    "    \n",
    "print(' '.join(line))"
   ]
  }
 ],
 "metadata": {
  "kernelspec": {
   "display_name": "Python 3",
   "language": "python",
   "name": "python3"
  },
  "language_info": {
   "codemirror_mode": {
    "name": "ipython",
    "version": 3
   },
   "file_extension": ".py",
   "mimetype": "text/x-python",
   "name": "python",
   "nbconvert_exporter": "python",
   "pygments_lexer": "ipython3",
   "version": "3.11.5"
  }
 },
 "nbformat": 4,
 "nbformat_minor": 5
}
